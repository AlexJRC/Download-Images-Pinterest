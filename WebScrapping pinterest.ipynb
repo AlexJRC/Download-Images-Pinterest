{
 "cells": [
  {
   "cell_type": "code",
   "execution_count": null,
   "id": "9207d53f",
   "metadata": {},
   "outputs": [],
   "source": [
    "# Remenber of install chrome driver to Google Chrome!"
   ]
  },
  {
   "cell_type": "code",
   "execution_count": 45,
   "id": "3f83305e",
   "metadata": {},
   "outputs": [
    {
     "name": "stdout",
     "output_type": "stream",
     "text": [
      "Defaulting to user installation because normal site-packages is not writeable\n",
      "Collecting selenium\n",
      "  Downloading selenium-4.2.0-py3-none-any.whl (983 kB)\n",
      "Requirement already satisfied: urllib3[secure,socks]~=1.26 in c:\\programdata\\anaconda3\\lib\\site-packages (from selenium) (1.26.9)\n",
      "Collecting trio-websocket~=0.9\n",
      "  Downloading trio_websocket-0.9.2-py3-none-any.whl (16 kB)\n",
      "Collecting trio~=0.17\n",
      "  Downloading trio-0.20.0-py3-none-any.whl (359 kB)\n",
      "Collecting async-generator>=1.9\n",
      "  Downloading async_generator-1.10-py3-none-any.whl (18 kB)\n",
      "Requirement already satisfied: attrs>=19.2.0 in c:\\programdata\\anaconda3\\lib\\site-packages (from trio~=0.17->selenium) (21.4.0)\n",
      "Requirement already satisfied: sniffio in c:\\programdata\\anaconda3\\lib\\site-packages (from trio~=0.17->selenium) (1.2.0)\n",
      "Requirement already satisfied: idna in c:\\programdata\\anaconda3\\lib\\site-packages (from trio~=0.17->selenium) (3.3)\n",
      "Collecting outcome\n",
      "  Downloading outcome-1.1.0-py2.py3-none-any.whl (9.7 kB)\n",
      "Requirement already satisfied: cffi>=1.14 in c:\\programdata\\anaconda3\\lib\\site-packages (from trio~=0.17->selenium) (1.15.0)\n",
      "Requirement already satisfied: sortedcontainers in c:\\programdata\\anaconda3\\lib\\site-packages (from trio~=0.17->selenium) (2.4.0)\n",
      "Requirement already satisfied: pycparser in c:\\programdata\\anaconda3\\lib\\site-packages (from cffi>=1.14->trio~=0.17->selenium) (2.21)\n",
      "Collecting wsproto>=0.14\n",
      "  Downloading wsproto-1.1.0-py3-none-any.whl (24 kB)\n",
      "Requirement already satisfied: PySocks!=1.5.7,<2.0,>=1.5.6 in c:\\programdata\\anaconda3\\lib\\site-packages (from urllib3[secure,socks]~=1.26->selenium) (1.7.1)\n",
      "Requirement already satisfied: certifi in c:\\programdata\\anaconda3\\lib\\site-packages (from urllib3[secure,socks]~=1.26->selenium) (2021.10.8)\n",
      "Requirement already satisfied: pyOpenSSL>=0.14 in c:\\programdata\\anaconda3\\lib\\site-packages (from urllib3[secure,socks]~=1.26->selenium) (21.0.0)\n",
      "Requirement already satisfied: cryptography>=1.3.4 in c:\\programdata\\anaconda3\\lib\\site-packages (from urllib3[secure,socks]~=1.26->selenium) (3.4.8)\n",
      "Requirement already satisfied: six>=1.5.2 in c:\\programdata\\anaconda3\\lib\\site-packages (from pyOpenSSL>=0.14->urllib3[secure,socks]~=1.26->selenium) (1.16.0)\n",
      "Collecting h11<1,>=0.9.0\n",
      "  Downloading h11-0.13.0-py3-none-any.whl (58 kB)\n",
      "Installing collected packages: outcome, h11, async-generator, wsproto, trio, trio-websocket, selenium\n",
      "Successfully installed async-generator-1.10 h11-0.13.0 outcome-1.1.0 selenium-4.2.0 trio-0.20.0 trio-websocket-0.9.2 wsproto-1.1.0\n"
     ]
    }
   ],
   "source": [
    "!pip install selenium\n",
    "!pip install urlib"
   ]
  },
  {
   "cell_type": "code",
   "execution_count": 95,
   "id": "9ac76a52",
   "metadata": {
    "scrolled": false
   },
   "outputs": [
    {
     "name": "stderr",
     "output_type": "stream",
     "text": [
      "C:\\Users\\alexj\\AppData\\Local\\Temp\\ipykernel_3812\\39216774.py:6: DeprecationWarning: executable_path has been deprecated, please pass in a Service object\n",
      "  driver = webdriver.Chrome(executable_path=DRIVER_PATH)\n"
     ]
    }
   ],
   "source": [
    "import bs4 as Bs\n",
    "from selenium import webdriver\n",
    "save=[]\n",
    "#Your path driver of Google Chrome:\n",
    "DRIVER_PATH = r'C:\\Users\\alexj\\OneDrive\\Área de Trabalho\\chrome\\chromedriver.exe'\n",
    "driver = webdriver.Chrome(executable_path=DRIVER_PATH)\n"
   ]
  },
  {
   "cell_type": "code",
   "execution_count": 99,
   "id": "3656a1a6",
   "metadata": {},
   "outputs": [
    {
     "name": "stdout",
     "output_type": "stream",
     "text": [
      "Page:\n",
      "https://i.pinimg.com/236x/6c/bf/53/6cbf532a2c119171d6589ef556030310--hustle-quotes-take-action.jpg\n"
     ]
    },
    {
     "ename": "TypeError",
     "evalue": "can only concatenate list (not \"str\") to list",
     "output_type": "error",
     "traceback": [
      "\u001b[1;31m---------------------------------------------------------------------------\u001b[0m",
      "\u001b[1;31mTypeError\u001b[0m                                 Traceback (most recent call last)",
      "Input \u001b[1;32mIn [99]\u001b[0m, in \u001b[0;36m<cell line: 7>\u001b[1;34m()\u001b[0m\n\u001b[0;32m     12\u001b[0m \u001b[38;5;28mprint\u001b[39m(link\u001b[38;5;241m.\u001b[39mget(\u001b[38;5;124m'\u001b[39m\u001b[38;5;124msrc\u001b[39m\u001b[38;5;124m'\u001b[39m))\n\u001b[0;32m     13\u001b[0m lista\u001b[38;5;241m=\u001b[39mlink\u001b[38;5;241m.\u001b[39mget(\u001b[38;5;124m'\u001b[39m\u001b[38;5;124msrc\u001b[39m\u001b[38;5;124m'\u001b[39m)\n\u001b[1;32m---> 14\u001b[0m data \u001b[38;5;241m=\u001b[39m urllib\u001b[38;5;241m.\u001b[39mrequest\u001b[38;5;241m.\u001b[39murlretrieve(lista,\u001b[43m[\u001b[49m\u001b[43mi\u001b[49m\u001b[43m]\u001b[49m\u001b[38;5;241;43m+\u001b[39;49m\u001b[38;5;124;43m\"\u001b[39;49m\u001b[38;5;124;43mjpg\u001b[39;49m\u001b[38;5;124;43m\"\u001b[39;49m)\n\u001b[0;32m     15\u001b[0m save\u001b[38;5;241m.\u001b[39mappend(lista)\n\u001b[0;32m     16\u001b[0m i\u001b[38;5;241m=\u001b[39mi\u001b[38;5;241m+\u001b[39m\u001b[38;5;241m1\u001b[39m\n",
      "\u001b[1;31mTypeError\u001b[0m: can only concatenate list (not \"str\") to list"
     ]
    }
   ],
   "source": [
    "Search=(\"What do you wanna search in pinterest\") #Write here\n",
    "driver.get('https://in.pinterest.com/search/pins/?q='+Search)\n",
    "page_src = Bs.BeautifulSoup(driver.page_source)\n",
    "ScrollNumber = 10  \n",
    "sleepTimer = 1\n",
    "i=0\n",
    "for _ in range(1,ScrollNumber):\n",
    "    driver.execute_script(\"window.scrollTo(1,100000)\")\n",
    "    print(\"Page:\")\n",
    "    time.sleep(sleepTimer)\n",
    "    for link in soup.find_all('img'):\n",
    "        print(link.get('src'))\n",
    "        lista=link.get('src')\n",
    "        data = urllib.request.urlretrieve(lista,[i]+\"jpg\")\n",
    "        save.append(lista)\n",
    "        i=i+1\n",
    "    #print(link.get('alt'))\n",
    "\n",
    "soup = BeautifulSoup(driver.page_source,'html.parser')\n"
   ]
  },
  {
   "cell_type": "code",
   "execution_count": 45,
   "id": "6abdb7ad",
   "metadata": {
    "scrolled": true
   },
   "outputs": [
    {
     "data": {
      "text/plain": [
       "['https://i.pinimg.com/236x/f8/23/cd/f823cd9404bf459cc155f2045fcc4291--digimon-digital-monsters-digimon-adventure-tri.jpg',\n",
       " 'https://i.pinimg.com/236x/6d/06/85/6d0685c8a14c93575da006815d4d1eaf.jpg',\n",
       " 'https://i.pinimg.com/75x75_RS/23/02/c4/2302c4603a2648239032c6e1f8254ae2.jpg',\n",
       " 'https://i.pinimg.com/236x/b3/45/13/b345133795105bd4c4a9ae82ee69dbdb--digimon-sticker-books.jpg',\n",
       " 'https://i.pinimg.com/236x/90/34/9c/90349c1a914084bf7f97935a502e889a--digimon-digital-monsters-digimon-adventure.jpg',\n",
       " 'https://i.pinimg.com/236x/7e/d4/0e/7ed40ef3c775cbb6aa954c196c97ec7b.jpg',\n",
       " 'https://i.pinimg.com/236x/77/a1/bd/77a1bd681d269c4a216fc610f8bbe633.jpg',\n",
       " 'https://i.pinimg.com/236x/a5/7d/40/a57d40e2efb48c3a4225828611fe6b26.jpg',\n",
       " 'https://i.pinimg.com/236x/73/a2/cc/73a2cc36fe9a29cf3347f6b3107f2ded--childhood-digimon.jpg',\n",
       " 'https://i.pinimg.com/236x/ff/21/aa/ff21aa860aca836971dd069d0296005e.jpg',\n",
       " 'https://i.pinimg.com/236x/d0/4b/2d/d04b2d2e9261133bcf4cc4747f5c136a--digimon-anime-digimon-tai.jpg',\n",
       " 'https://i.pinimg.com/75x75_RS/e4/f1/1b/e4f11ba7b533d7006d7703c27004bd75.jpg',\n",
       " 'https://i.pinimg.com/236x/86/0b/d2/860bd21c10eb9fee226e917f2fb35604.jpg',\n",
       " 'https://i.pinimg.com/236x/12/b6/75/12b67550dc3b0307552165f481c165b8.jpg',\n",
       " 'https://i.pinimg.com/75x75_RS/d3/3f/f0/d33ff00d5ce0e1d8723ed335b1fbfc68.jpg',\n",
       " 'https://i.pinimg.com/236x/34/ec/31/34ec3190e4375a5ff442a9d69680e302.jpg',\n",
       " 'https://i.pinimg.com/75x75_RS/7f/0b/b4/7f0bb46cd28f9b56d59d89a39443eed7.jpg',\n",
       " 'https://i.pinimg.com/236x/01/3b/f4/013bf4916e27af4724d188415dfb3e45.jpg',\n",
       " 'https://i.pinimg.com/75x75_RS/20/5b/d9/205bd9fc9585d21c6ed0fd2b8090d2d4.jpg',\n",
       " 'https://i.pinimg.com/236x/ab/8d/76/ab8d76af4415777dd78aff008ebaa791--digimon-tempat.jpg',\n",
       " 'https://i.pinimg.com/236x/e8/01/32/e8013210e8580b296968c3150c7cd2d1--tv-anime-manga-anime.jpg',\n",
       " 'https://i.pinimg.com/236x/88/22/b8/8822b8a1c6680a1f67aee6c3ad2304a2.jpg',\n",
       " 'https://i.pinimg.com/236x/f8/23/cd/f823cd9404bf459cc155f2045fcc4291--digimon-digital-monsters-digimon-adventure-tri.jpg',\n",
       " 'https://i.pinimg.com/236x/6d/06/85/6d0685c8a14c93575da006815d4d1eaf.jpg',\n",
       " 'https://i.pinimg.com/75x75_RS/23/02/c4/2302c4603a2648239032c6e1f8254ae2.jpg',\n",
       " 'https://i.pinimg.com/236x/b3/45/13/b345133795105bd4c4a9ae82ee69dbdb--digimon-sticker-books.jpg',\n",
       " 'https://i.pinimg.com/236x/90/34/9c/90349c1a914084bf7f97935a502e889a--digimon-digital-monsters-digimon-adventure.jpg',\n",
       " 'https://i.pinimg.com/236x/7e/d4/0e/7ed40ef3c775cbb6aa954c196c97ec7b.jpg',\n",
       " 'https://i.pinimg.com/236x/77/a1/bd/77a1bd681d269c4a216fc610f8bbe633.jpg',\n",
       " 'https://i.pinimg.com/236x/a5/7d/40/a57d40e2efb48c3a4225828611fe6b26.jpg',\n",
       " 'https://i.pinimg.com/236x/73/a2/cc/73a2cc36fe9a29cf3347f6b3107f2ded--childhood-digimon.jpg',\n",
       " 'https://i.pinimg.com/236x/ff/21/aa/ff21aa860aca836971dd069d0296005e.jpg',\n",
       " 'https://i.pinimg.com/236x/d0/4b/2d/d04b2d2e9261133bcf4cc4747f5c136a--digimon-anime-digimon-tai.jpg',\n",
       " 'https://i.pinimg.com/75x75_RS/e4/f1/1b/e4f11ba7b533d7006d7703c27004bd75.jpg',\n",
       " 'https://i.pinimg.com/236x/86/0b/d2/860bd21c10eb9fee226e917f2fb35604.jpg',\n",
       " 'https://i.pinimg.com/236x/12/b6/75/12b67550dc3b0307552165f481c165b8.jpg',\n",
       " 'https://i.pinimg.com/75x75_RS/d3/3f/f0/d33ff00d5ce0e1d8723ed335b1fbfc68.jpg',\n",
       " 'https://i.pinimg.com/236x/34/ec/31/34ec3190e4375a5ff442a9d69680e302.jpg',\n",
       " 'https://i.pinimg.com/75x75_RS/7f/0b/b4/7f0bb46cd28f9b56d59d89a39443eed7.jpg',\n",
       " 'https://i.pinimg.com/236x/01/3b/f4/013bf4916e27af4724d188415dfb3e45.jpg',\n",
       " 'https://i.pinimg.com/75x75_RS/20/5b/d9/205bd9fc9585d21c6ed0fd2b8090d2d4.jpg',\n",
       " 'https://i.pinimg.com/236x/ab/8d/76/ab8d76af4415777dd78aff008ebaa791--digimon-tempat.jpg',\n",
       " 'https://i.pinimg.com/236x/e8/01/32/e8013210e8580b296968c3150c7cd2d1--tv-anime-manga-anime.jpg',\n",
       " 'https://i.pinimg.com/236x/88/22/b8/8822b8a1c6680a1f67aee6c3ad2304a2.jpg',\n",
       " 'https://i.pinimg.com/236x/f8/23/cd/f823cd9404bf459cc155f2045fcc4291--digimon-digital-monsters-digimon-adventure-tri.jpg',\n",
       " 'https://i.pinimg.com/236x/6d/06/85/6d0685c8a14c93575da006815d4d1eaf.jpg',\n",
       " 'https://i.pinimg.com/75x75_RS/23/02/c4/2302c4603a2648239032c6e1f8254ae2.jpg',\n",
       " 'https://i.pinimg.com/236x/b3/45/13/b345133795105bd4c4a9ae82ee69dbdb--digimon-sticker-books.jpg',\n",
       " 'https://i.pinimg.com/236x/90/34/9c/90349c1a914084bf7f97935a502e889a--digimon-digital-monsters-digimon-adventure.jpg',\n",
       " 'https://i.pinimg.com/236x/7e/d4/0e/7ed40ef3c775cbb6aa954c196c97ec7b.jpg',\n",
       " 'https://i.pinimg.com/236x/77/a1/bd/77a1bd681d269c4a216fc610f8bbe633.jpg',\n",
       " 'https://i.pinimg.com/236x/a5/7d/40/a57d40e2efb48c3a4225828611fe6b26.jpg',\n",
       " 'https://i.pinimg.com/236x/73/a2/cc/73a2cc36fe9a29cf3347f6b3107f2ded--childhood-digimon.jpg',\n",
       " 'https://i.pinimg.com/236x/ff/21/aa/ff21aa860aca836971dd069d0296005e.jpg',\n",
       " 'https://i.pinimg.com/236x/d0/4b/2d/d04b2d2e9261133bcf4cc4747f5c136a--digimon-anime-digimon-tai.jpg',\n",
       " 'https://i.pinimg.com/75x75_RS/e4/f1/1b/e4f11ba7b533d7006d7703c27004bd75.jpg',\n",
       " 'https://i.pinimg.com/236x/86/0b/d2/860bd21c10eb9fee226e917f2fb35604.jpg',\n",
       " 'https://i.pinimg.com/236x/12/b6/75/12b67550dc3b0307552165f481c165b8.jpg',\n",
       " 'https://i.pinimg.com/75x75_RS/d3/3f/f0/d33ff00d5ce0e1d8723ed335b1fbfc68.jpg',\n",
       " 'https://i.pinimg.com/236x/34/ec/31/34ec3190e4375a5ff442a9d69680e302.jpg',\n",
       " 'https://i.pinimg.com/75x75_RS/7f/0b/b4/7f0bb46cd28f9b56d59d89a39443eed7.jpg',\n",
       " 'https://i.pinimg.com/236x/01/3b/f4/013bf4916e27af4724d188415dfb3e45.jpg',\n",
       " 'https://i.pinimg.com/75x75_RS/20/5b/d9/205bd9fc9585d21c6ed0fd2b8090d2d4.jpg',\n",
       " 'https://i.pinimg.com/236x/ab/8d/76/ab8d76af4415777dd78aff008ebaa791--digimon-tempat.jpg',\n",
       " 'https://i.pinimg.com/236x/e8/01/32/e8013210e8580b296968c3150c7cd2d1--tv-anime-manga-anime.jpg',\n",
       " 'https://i.pinimg.com/236x/88/22/b8/8822b8a1c6680a1f67aee6c3ad2304a2.jpg',\n",
       " 'https://i.pinimg.com/236x/f8/23/cd/f823cd9404bf459cc155f2045fcc4291--digimon-digital-monsters-digimon-adventure-tri.jpg',\n",
       " 'https://i.pinimg.com/236x/6d/06/85/6d0685c8a14c93575da006815d4d1eaf.jpg',\n",
       " 'https://i.pinimg.com/75x75_RS/23/02/c4/2302c4603a2648239032c6e1f8254ae2.jpg',\n",
       " 'https://i.pinimg.com/236x/b3/45/13/b345133795105bd4c4a9ae82ee69dbdb--digimon-sticker-books.jpg',\n",
       " 'https://i.pinimg.com/236x/90/34/9c/90349c1a914084bf7f97935a502e889a--digimon-digital-monsters-digimon-adventure.jpg',\n",
       " 'https://i.pinimg.com/236x/7e/d4/0e/7ed40ef3c775cbb6aa954c196c97ec7b.jpg',\n",
       " 'https://i.pinimg.com/236x/77/a1/bd/77a1bd681d269c4a216fc610f8bbe633.jpg',\n",
       " 'https://i.pinimg.com/236x/a5/7d/40/a57d40e2efb48c3a4225828611fe6b26.jpg',\n",
       " 'https://i.pinimg.com/236x/73/a2/cc/73a2cc36fe9a29cf3347f6b3107f2ded--childhood-digimon.jpg',\n",
       " 'https://i.pinimg.com/236x/ff/21/aa/ff21aa860aca836971dd069d0296005e.jpg',\n",
       " 'https://i.pinimg.com/236x/d0/4b/2d/d04b2d2e9261133bcf4cc4747f5c136a--digimon-anime-digimon-tai.jpg',\n",
       " 'https://i.pinimg.com/75x75_RS/e4/f1/1b/e4f11ba7b533d7006d7703c27004bd75.jpg',\n",
       " 'https://i.pinimg.com/236x/86/0b/d2/860bd21c10eb9fee226e917f2fb35604.jpg',\n",
       " 'https://i.pinimg.com/236x/12/b6/75/12b67550dc3b0307552165f481c165b8.jpg',\n",
       " 'https://i.pinimg.com/75x75_RS/d3/3f/f0/d33ff00d5ce0e1d8723ed335b1fbfc68.jpg',\n",
       " 'https://i.pinimg.com/236x/34/ec/31/34ec3190e4375a5ff442a9d69680e302.jpg',\n",
       " 'https://i.pinimg.com/75x75_RS/7f/0b/b4/7f0bb46cd28f9b56d59d89a39443eed7.jpg',\n",
       " 'https://i.pinimg.com/236x/01/3b/f4/013bf4916e27af4724d188415dfb3e45.jpg',\n",
       " 'https://i.pinimg.com/75x75_RS/20/5b/d9/205bd9fc9585d21c6ed0fd2b8090d2d4.jpg',\n",
       " 'https://i.pinimg.com/236x/ab/8d/76/ab8d76af4415777dd78aff008ebaa791--digimon-tempat.jpg',\n",
       " 'https://i.pinimg.com/236x/e8/01/32/e8013210e8580b296968c3150c7cd2d1--tv-anime-manga-anime.jpg',\n",
       " 'https://i.pinimg.com/236x/88/22/b8/8822b8a1c6680a1f67aee6c3ad2304a2.jpg',\n",
       " 'https://i.pinimg.com/236x/f8/23/cd/f823cd9404bf459cc155f2045fcc4291--digimon-digital-monsters-digimon-adventure-tri.jpg',\n",
       " 'https://i.pinimg.com/236x/6d/06/85/6d0685c8a14c93575da006815d4d1eaf.jpg',\n",
       " 'https://i.pinimg.com/75x75_RS/23/02/c4/2302c4603a2648239032c6e1f8254ae2.jpg',\n",
       " 'https://i.pinimg.com/236x/b3/45/13/b345133795105bd4c4a9ae82ee69dbdb--digimon-sticker-books.jpg',\n",
       " 'https://i.pinimg.com/236x/90/34/9c/90349c1a914084bf7f97935a502e889a--digimon-digital-monsters-digimon-adventure.jpg',\n",
       " 'https://i.pinimg.com/236x/7e/d4/0e/7ed40ef3c775cbb6aa954c196c97ec7b.jpg',\n",
       " 'https://i.pinimg.com/236x/77/a1/bd/77a1bd681d269c4a216fc610f8bbe633.jpg',\n",
       " 'https://i.pinimg.com/236x/a5/7d/40/a57d40e2efb48c3a4225828611fe6b26.jpg',\n",
       " 'https://i.pinimg.com/236x/73/a2/cc/73a2cc36fe9a29cf3347f6b3107f2ded--childhood-digimon.jpg',\n",
       " 'https://i.pinimg.com/236x/ff/21/aa/ff21aa860aca836971dd069d0296005e.jpg',\n",
       " 'https://i.pinimg.com/236x/d0/4b/2d/d04b2d2e9261133bcf4cc4747f5c136a--digimon-anime-digimon-tai.jpg',\n",
       " 'https://i.pinimg.com/75x75_RS/e4/f1/1b/e4f11ba7b533d7006d7703c27004bd75.jpg',\n",
       " 'https://i.pinimg.com/236x/86/0b/d2/860bd21c10eb9fee226e917f2fb35604.jpg',\n",
       " 'https://i.pinimg.com/236x/12/b6/75/12b67550dc3b0307552165f481c165b8.jpg',\n",
       " 'https://i.pinimg.com/75x75_RS/d3/3f/f0/d33ff00d5ce0e1d8723ed335b1fbfc68.jpg',\n",
       " 'https://i.pinimg.com/236x/34/ec/31/34ec3190e4375a5ff442a9d69680e302.jpg',\n",
       " 'https://i.pinimg.com/75x75_RS/7f/0b/b4/7f0bb46cd28f9b56d59d89a39443eed7.jpg',\n",
       " 'https://i.pinimg.com/236x/01/3b/f4/013bf4916e27af4724d188415dfb3e45.jpg',\n",
       " 'https://i.pinimg.com/75x75_RS/20/5b/d9/205bd9fc9585d21c6ed0fd2b8090d2d4.jpg',\n",
       " 'https://i.pinimg.com/236x/ab/8d/76/ab8d76af4415777dd78aff008ebaa791--digimon-tempat.jpg',\n",
       " 'https://i.pinimg.com/236x/e8/01/32/e8013210e8580b296968c3150c7cd2d1--tv-anime-manga-anime.jpg',\n",
       " 'https://i.pinimg.com/236x/88/22/b8/8822b8a1c6680a1f67aee6c3ad2304a2.jpg',\n",
       " 'https://i.pinimg.com/236x/f8/23/cd/f823cd9404bf459cc155f2045fcc4291--digimon-digital-monsters-digimon-adventure-tri.jpg',\n",
       " 'https://i.pinimg.com/236x/6d/06/85/6d0685c8a14c93575da006815d4d1eaf.jpg',\n",
       " 'https://i.pinimg.com/75x75_RS/23/02/c4/2302c4603a2648239032c6e1f8254ae2.jpg',\n",
       " 'https://i.pinimg.com/236x/b3/45/13/b345133795105bd4c4a9ae82ee69dbdb--digimon-sticker-books.jpg',\n",
       " 'https://i.pinimg.com/236x/90/34/9c/90349c1a914084bf7f97935a502e889a--digimon-digital-monsters-digimon-adventure.jpg',\n",
       " 'https://i.pinimg.com/236x/7e/d4/0e/7ed40ef3c775cbb6aa954c196c97ec7b.jpg',\n",
       " 'https://i.pinimg.com/236x/77/a1/bd/77a1bd681d269c4a216fc610f8bbe633.jpg',\n",
       " 'https://i.pinimg.com/236x/a5/7d/40/a57d40e2efb48c3a4225828611fe6b26.jpg',\n",
       " 'https://i.pinimg.com/236x/73/a2/cc/73a2cc36fe9a29cf3347f6b3107f2ded--childhood-digimon.jpg',\n",
       " 'https://i.pinimg.com/236x/ff/21/aa/ff21aa860aca836971dd069d0296005e.jpg',\n",
       " 'https://i.pinimg.com/236x/d0/4b/2d/d04b2d2e9261133bcf4cc4747f5c136a--digimon-anime-digimon-tai.jpg',\n",
       " 'https://i.pinimg.com/75x75_RS/e4/f1/1b/e4f11ba7b533d7006d7703c27004bd75.jpg',\n",
       " 'https://i.pinimg.com/236x/86/0b/d2/860bd21c10eb9fee226e917f2fb35604.jpg',\n",
       " 'https://i.pinimg.com/236x/12/b6/75/12b67550dc3b0307552165f481c165b8.jpg',\n",
       " 'https://i.pinimg.com/75x75_RS/d3/3f/f0/d33ff00d5ce0e1d8723ed335b1fbfc68.jpg',\n",
       " 'https://i.pinimg.com/236x/34/ec/31/34ec3190e4375a5ff442a9d69680e302.jpg',\n",
       " 'https://i.pinimg.com/75x75_RS/7f/0b/b4/7f0bb46cd28f9b56d59d89a39443eed7.jpg',\n",
       " 'https://i.pinimg.com/236x/01/3b/f4/013bf4916e27af4724d188415dfb3e45.jpg',\n",
       " 'https://i.pinimg.com/75x75_RS/20/5b/d9/205bd9fc9585d21c6ed0fd2b8090d2d4.jpg',\n",
       " 'https://i.pinimg.com/236x/ab/8d/76/ab8d76af4415777dd78aff008ebaa791--digimon-tempat.jpg',\n",
       " 'https://i.pinimg.com/236x/e8/01/32/e8013210e8580b296968c3150c7cd2d1--tv-anime-manga-anime.jpg',\n",
       " 'https://i.pinimg.com/236x/88/22/b8/8822b8a1c6680a1f67aee6c3ad2304a2.jpg',\n",
       " 'https://i.pinimg.com/236x/f8/23/cd/f823cd9404bf459cc155f2045fcc4291--digimon-digital-monsters-digimon-adventure-tri.jpg',\n",
       " 'https://i.pinimg.com/236x/6d/06/85/6d0685c8a14c93575da006815d4d1eaf.jpg',\n",
       " 'https://i.pinimg.com/75x75_RS/23/02/c4/2302c4603a2648239032c6e1f8254ae2.jpg',\n",
       " 'https://i.pinimg.com/236x/b3/45/13/b345133795105bd4c4a9ae82ee69dbdb--digimon-sticker-books.jpg',\n",
       " 'https://i.pinimg.com/236x/90/34/9c/90349c1a914084bf7f97935a502e889a--digimon-digital-monsters-digimon-adventure.jpg',\n",
       " 'https://i.pinimg.com/236x/7e/d4/0e/7ed40ef3c775cbb6aa954c196c97ec7b.jpg',\n",
       " 'https://i.pinimg.com/236x/77/a1/bd/77a1bd681d269c4a216fc610f8bbe633.jpg',\n",
       " 'https://i.pinimg.com/236x/a5/7d/40/a57d40e2efb48c3a4225828611fe6b26.jpg',\n",
       " 'https://i.pinimg.com/236x/73/a2/cc/73a2cc36fe9a29cf3347f6b3107f2ded--childhood-digimon.jpg',\n",
       " 'https://i.pinimg.com/236x/ff/21/aa/ff21aa860aca836971dd069d0296005e.jpg',\n",
       " 'https://i.pinimg.com/236x/d0/4b/2d/d04b2d2e9261133bcf4cc4747f5c136a--digimon-anime-digimon-tai.jpg',\n",
       " 'https://i.pinimg.com/75x75_RS/e4/f1/1b/e4f11ba7b533d7006d7703c27004bd75.jpg',\n",
       " 'https://i.pinimg.com/236x/86/0b/d2/860bd21c10eb9fee226e917f2fb35604.jpg',\n",
       " 'https://i.pinimg.com/236x/12/b6/75/12b67550dc3b0307552165f481c165b8.jpg',\n",
       " 'https://i.pinimg.com/75x75_RS/d3/3f/f0/d33ff00d5ce0e1d8723ed335b1fbfc68.jpg',\n",
       " 'https://i.pinimg.com/236x/34/ec/31/34ec3190e4375a5ff442a9d69680e302.jpg',\n",
       " 'https://i.pinimg.com/75x75_RS/7f/0b/b4/7f0bb46cd28f9b56d59d89a39443eed7.jpg',\n",
       " 'https://i.pinimg.com/236x/01/3b/f4/013bf4916e27af4724d188415dfb3e45.jpg',\n",
       " 'https://i.pinimg.com/75x75_RS/20/5b/d9/205bd9fc9585d21c6ed0fd2b8090d2d4.jpg',\n",
       " 'https://i.pinimg.com/236x/ab/8d/76/ab8d76af4415777dd78aff008ebaa791--digimon-tempat.jpg',\n",
       " 'https://i.pinimg.com/236x/e8/01/32/e8013210e8580b296968c3150c7cd2d1--tv-anime-manga-anime.jpg',\n",
       " 'https://i.pinimg.com/236x/88/22/b8/8822b8a1c6680a1f67aee6c3ad2304a2.jpg',\n",
       " 'https://i.pinimg.com/236x/f8/23/cd/f823cd9404bf459cc155f2045fcc4291--digimon-digital-monsters-digimon-adventure-tri.jpg',\n",
       " 'https://i.pinimg.com/236x/6d/06/85/6d0685c8a14c93575da006815d4d1eaf.jpg',\n",
       " 'https://i.pinimg.com/75x75_RS/23/02/c4/2302c4603a2648239032c6e1f8254ae2.jpg',\n",
       " 'https://i.pinimg.com/236x/b3/45/13/b345133795105bd4c4a9ae82ee69dbdb--digimon-sticker-books.jpg',\n",
       " 'https://i.pinimg.com/236x/90/34/9c/90349c1a914084bf7f97935a502e889a--digimon-digital-monsters-digimon-adventure.jpg',\n",
       " 'https://i.pinimg.com/236x/7e/d4/0e/7ed40ef3c775cbb6aa954c196c97ec7b.jpg',\n",
       " 'https://i.pinimg.com/236x/77/a1/bd/77a1bd681d269c4a216fc610f8bbe633.jpg',\n",
       " 'https://i.pinimg.com/236x/a5/7d/40/a57d40e2efb48c3a4225828611fe6b26.jpg',\n",
       " 'https://i.pinimg.com/236x/73/a2/cc/73a2cc36fe9a29cf3347f6b3107f2ded--childhood-digimon.jpg',\n",
       " 'https://i.pinimg.com/236x/ff/21/aa/ff21aa860aca836971dd069d0296005e.jpg',\n",
       " 'https://i.pinimg.com/236x/d0/4b/2d/d04b2d2e9261133bcf4cc4747f5c136a--digimon-anime-digimon-tai.jpg',\n",
       " 'https://i.pinimg.com/75x75_RS/e4/f1/1b/e4f11ba7b533d7006d7703c27004bd75.jpg',\n",
       " 'https://i.pinimg.com/236x/86/0b/d2/860bd21c10eb9fee226e917f2fb35604.jpg',\n",
       " 'https://i.pinimg.com/236x/12/b6/75/12b67550dc3b0307552165f481c165b8.jpg',\n",
       " 'https://i.pinimg.com/75x75_RS/d3/3f/f0/d33ff00d5ce0e1d8723ed335b1fbfc68.jpg',\n",
       " 'https://i.pinimg.com/236x/34/ec/31/34ec3190e4375a5ff442a9d69680e302.jpg',\n",
       " 'https://i.pinimg.com/75x75_RS/7f/0b/b4/7f0bb46cd28f9b56d59d89a39443eed7.jpg',\n",
       " 'https://i.pinimg.com/236x/01/3b/f4/013bf4916e27af4724d188415dfb3e45.jpg',\n",
       " 'https://i.pinimg.com/75x75_RS/20/5b/d9/205bd9fc9585d21c6ed0fd2b8090d2d4.jpg',\n",
       " 'https://i.pinimg.com/236x/ab/8d/76/ab8d76af4415777dd78aff008ebaa791--digimon-tempat.jpg',\n",
       " 'https://i.pinimg.com/236x/e8/01/32/e8013210e8580b296968c3150c7cd2d1--tv-anime-manga-anime.jpg',\n",
       " 'https://i.pinimg.com/236x/88/22/b8/8822b8a1c6680a1f67aee6c3ad2304a2.jpg',\n",
       " 'https://i.pinimg.com/236x/f8/23/cd/f823cd9404bf459cc155f2045fcc4291--digimon-digital-monsters-digimon-adventure-tri.jpg',\n",
       " 'https://i.pinimg.com/236x/6d/06/85/6d0685c8a14c93575da006815d4d1eaf.jpg',\n",
       " 'https://i.pinimg.com/75x75_RS/23/02/c4/2302c4603a2648239032c6e1f8254ae2.jpg',\n",
       " 'https://i.pinimg.com/236x/b3/45/13/b345133795105bd4c4a9ae82ee69dbdb--digimon-sticker-books.jpg',\n",
       " 'https://i.pinimg.com/236x/90/34/9c/90349c1a914084bf7f97935a502e889a--digimon-digital-monsters-digimon-adventure.jpg',\n",
       " 'https://i.pinimg.com/236x/7e/d4/0e/7ed40ef3c775cbb6aa954c196c97ec7b.jpg',\n",
       " 'https://i.pinimg.com/236x/77/a1/bd/77a1bd681d269c4a216fc610f8bbe633.jpg',\n",
       " 'https://i.pinimg.com/236x/a5/7d/40/a57d40e2efb48c3a4225828611fe6b26.jpg',\n",
       " 'https://i.pinimg.com/236x/73/a2/cc/73a2cc36fe9a29cf3347f6b3107f2ded--childhood-digimon.jpg',\n",
       " 'https://i.pinimg.com/236x/ff/21/aa/ff21aa860aca836971dd069d0296005e.jpg',\n",
       " 'https://i.pinimg.com/236x/d0/4b/2d/d04b2d2e9261133bcf4cc4747f5c136a--digimon-anime-digimon-tai.jpg',\n",
       " 'https://i.pinimg.com/75x75_RS/e4/f1/1b/e4f11ba7b533d7006d7703c27004bd75.jpg',\n",
       " 'https://i.pinimg.com/236x/86/0b/d2/860bd21c10eb9fee226e917f2fb35604.jpg',\n",
       " 'https://i.pinimg.com/236x/12/b6/75/12b67550dc3b0307552165f481c165b8.jpg',\n",
       " 'https://i.pinimg.com/75x75_RS/d3/3f/f0/d33ff00d5ce0e1d8723ed335b1fbfc68.jpg',\n",
       " 'https://i.pinimg.com/236x/34/ec/31/34ec3190e4375a5ff442a9d69680e302.jpg',\n",
       " 'https://i.pinimg.com/75x75_RS/7f/0b/b4/7f0bb46cd28f9b56d59d89a39443eed7.jpg',\n",
       " 'https://i.pinimg.com/236x/01/3b/f4/013bf4916e27af4724d188415dfb3e45.jpg',\n",
       " 'https://i.pinimg.com/75x75_RS/20/5b/d9/205bd9fc9585d21c6ed0fd2b8090d2d4.jpg',\n",
       " 'https://i.pinimg.com/236x/ab/8d/76/ab8d76af4415777dd78aff008ebaa791--digimon-tempat.jpg',\n",
       " 'https://i.pinimg.com/236x/e8/01/32/e8013210e8580b296968c3150c7cd2d1--tv-anime-manga-anime.jpg',\n",
       " 'https://i.pinimg.com/236x/88/22/b8/8822b8a1c6680a1f67aee6c3ad2304a2.jpg']"
      ]
     },
     "execution_count": 45,
     "metadata": {},
     "output_type": "execute_result"
    }
   ],
   "source": [
    "save"
   ]
  },
  {
   "cell_type": "code",
   "execution_count": 76,
   "id": "3d052d01",
   "metadata": {},
   "outputs": [
    {
     "data": {
      "text/plain": [
       "<Response [200]>"
      ]
     },
     "execution_count": 76,
     "metadata": {},
     "output_type": "execute_result"
    }
   ],
   "source": [
    "response = requests.get(save[1])\n",
    "response"
   ]
  },
  {
   "cell_type": "code",
   "execution_count": 93,
   "id": "846e7033",
   "metadata": {},
   "outputs": [
    {
     "name": "stdout",
     "output_type": "stream",
     "text": [
      "download successful\n"
     ]
    }
   ],
   "source": [
    "import requests\n",
    "import urllib\n",
    "for k in range(len(save)):\n",
    "\n",
    "print(\"download successful\")"
   ]
  },
  {
   "cell_type": "code",
   "execution_count": 84,
   "id": "13403514",
   "metadata": {},
   "outputs": [],
   "source": []
  }
 ],
 "metadata": {
  "kernelspec": {
   "display_name": "Python 3 (ipykernel)",
   "language": "python",
   "name": "python3"
  },
  "language_info": {
   "codemirror_mode": {
    "name": "ipython",
    "version": 3
   },
   "file_extension": ".py",
   "mimetype": "text/x-python",
   "name": "python",
   "nbconvert_exporter": "python",
   "pygments_lexer": "ipython3",
   "version": "3.9.12"
  }
 },
 "nbformat": 4,
 "nbformat_minor": 5
}
